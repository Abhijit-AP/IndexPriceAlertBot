{
 "cells": [
  {
   "cell_type": "code",
   "execution_count": null,
   "metadata": {},
   "outputs": [],
   "source": [
    "#Get alerts on Index (BankNifty used in example) current price movement every 5 minutes on telegram\n",
    "#Calculated as points gained vs previous close and %Change\n",
    "\n",
    "#As a first step you will need to setup an telegram bot.\n",
    "#Here are the steps:\n",
    "# 1) Open telegram, and search for \"RawDataBot\"\n",
    "# 2) Type /start in the chat, and it will provide you your ID, which is a 10 dight numeric ID\n",
    "# 3) After noting down your ID, come out and search for another bot named \"BotFather\"\n",
    "    #Remember to choose the bot that is with a verified check for BotFather\n",
    "# 4) In the chat of the bot, type /newbot\n",
    "# 5) This will give you a message to type your personal bot's name\n",
    "# 6) You can type your name followed with an underscore and the word \"bot\"\n",
    "    #Example : yourname_bot\n",
    "# 7) It will provide you with an API key along with the message that your bot is created. Note down the API key\n",
    "# 8) Go to the bot you created and type /start\n",
    "# 9) Thats it, make sure to unmute your bot so every message you receive will popup on your phone in notifcation\n",
    "\n",
    "\n",
    "from nsepython import *\n",
    "import requests\n",
    "import time\n",
    "\n",
    "def teleMessage(message):\n",
    "    token = \"\" #Enter the API token you got from your bot in step #7\n",
    "    url = f\"https://api.telegram.org/bot{token}\"\n",
    "    params = {\"chat_id\": \"\" , \"text\": message} #In the quotes after chat_id, enter the ID you got in step #2\n",
    "    r = requests.get(url + \"/sendMessage\", params=params)\n",
    "\n",
    "#Function to get the latest price , you can change the script to get whatever index you want here\n",
    "def index_lpt():\n",
    "    indexLTP = nse_quote_ltp(\"BANKNIFTY\")\n",
    "    return indexLTP\n",
    "\n",
    "#Function to get previous close, you can change the script to get whatever index you want here\n",
    "indexPRE = nse_get_index_quote(\"nifty bank\")[\"previousClose\"]\n",
    "\n",
    "i = 0\n",
    "\n",
    "#Loop to get the latest price (or whatever index you choose)\n",
    "#It will loop every 5 minutes for 72 times which covers 6 hours. \n",
    "#Message will be triggers in your telegram after this.\n",
    "while i < 72:\n",
    "    indexCP = index_lpt()\n",
    "    indexGain = round((indexCP - indexPRE),2)\n",
    "    indexPerCG = round((((indexCP - indexPRE)/indexPRE*100)), 2)\n",
    "    CP = round(indexCP, 2)\n",
    "    if indexGain < 0:\n",
    "        message = f\"BNF Down by {indexGain}Rs, {indexPerCG}%, CP: {CP}\"\n",
    "        #If you change the symbol, remember to alter the text here to that symbol\n",
    "    else:\n",
    "        message = f\"BNF GAINED by +{indexGain} Rs, +{indexPerCG}%, CP: {CP}\"\n",
    "        #If you change the symbol, remember to alter the text here to that symbol\n",
    "    teleMessage(message)\n",
    "    time.sleep(300)\n",
    "    i +=1"
   ]
  }
 ],
 "metadata": {
  "kernelspec": {
   "display_name": "Python 3",
   "language": "python",
   "name": "python3"
  },
  "language_info": {
   "codemirror_mode": {
    "name": "ipython",
    "version": 3
   },
   "file_extension": ".py",
   "mimetype": "text/x-python",
   "name": "python",
   "nbconvert_exporter": "python",
   "pygments_lexer": "ipython3",
   "version": "3.12.1"
  }
 },
 "nbformat": 4,
 "nbformat_minor": 2
}
